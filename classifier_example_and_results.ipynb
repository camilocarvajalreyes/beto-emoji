{
 "cells": [
  {
   "cell_type": "markdown",
   "metadata": {},
   "source": [
    "# Transformer based classifier\n",
    "\n",
    "[Beto, fitted for emoji prediction](https://huggingface.co/ccarvajal/beto-emoji)."
   ]
  },
  {
   "cell_type": "code",
   "execution_count": 1,
   "metadata": {},
   "outputs": [],
   "source": [
    "from transformers import AutoModelForSequenceClassification\n",
    "from transformers import AutoTokenizer\n",
    "import numpy as np\n",
    "from scipy.special import softmax\n",
    "import csv\n",
    "import urllib.request"
   ]
  },
  {
   "cell_type": "code",
   "execution_count": 2,
   "metadata": {},
   "outputs": [],
   "source": [
    "# Preprocess text (username and link placeholders)\n",
    "def preprocess(text):\n",
    "    new_text = []\n",
    "    for t in text.split(\" \"):\n",
    "        t = '@user' if t.startswith('@') and len(t) > 1 else t\n",
    "        t = 'http' if t.startswith('http') else t\n",
    "        new_text.append(t)\n",
    "    return \" \".join(new_text)"
   ]
  },
  {
   "cell_type": "code",
   "execution_count": 3,
   "metadata": {},
   "outputs": [],
   "source": [
    "MODEL = f\"ccarvajal/beto-emoji\"\n",
    "folder = MODEL.replace('ccarvajal/','')\n",
    "\n",
    "try:\n",
    "    tokenizer = AutoTokenizer.from_pretrained(folder)\n",
    "except ValueError:\n",
    "    tokenizer = AutoTokenizer.from_pretrained(MODEL)\n",
    "    tokenizer.save_pretrained(folder)"
   ]
  },
  {
   "cell_type": "code",
   "execution_count": 4,
   "metadata": {},
   "outputs": [],
   "source": [
    "# download label mapping\n",
    "labels=[]\n",
    "mapping_link = f\"https://raw.githubusercontent.com/camilocarvajalreyes/beto-emoji/main/es_mapping.txt\"\n",
    "with urllib.request.urlopen(mapping_link) as f:\n",
    "    html = f.read().decode('utf-8').split(\"\\n\")\n",
    "    csvreader = csv.reader(html, delimiter='\\t')\n",
    "labels = [row[1] for row in csvreader if len(row) > 1]"
   ]
  },
  {
   "cell_type": "code",
   "execution_count": 5,
   "metadata": {},
   "outputs": [],
   "source": [
    "try:\n",
    "    model = AutoModelForSequenceClassification.from_pretrained(folder)\n",
    "except OSError:\n",
    "    model = AutoModelForSequenceClassification.from_pretrained(MODEL)\n",
    "    model.save_pretrained(folder)"
   ]
  },
  {
   "cell_type": "code",
   "execution_count": 6,
   "metadata": {},
   "outputs": [],
   "source": [
    "def eval_text(text):\n",
    "    text = preprocess(text)\n",
    "    encoded_input = tokenizer(text, return_tensors='pt')\n",
    "    output = model(**encoded_input)\n",
    "    scores = output[0][0].detach().numpy()\n",
    "    scores = softmax(scores)\n",
    "    return np.argmax(scores), scores"
   ]
  },
  {
   "cell_type": "code",
   "execution_count": 7,
   "metadata": {},
   "outputs": [],
   "source": [
    "def rank_emojis_text(text):\n",
    "    _, scores = eval_text(text)\n",
    "    ranking = np.argsort(scores)\n",
    "    ranking = ranking[::-1]\n",
    "    for i in range(scores.shape[0]):\n",
    "        l = labels[ranking[i]]\n",
    "        s = scores[ranking[i]]\n",
    "        print(f\"{i+1}) {l} {np.round(float(s), 4)}\")"
   ]
  },
  {
   "cell_type": "code",
   "execution_count": 8,
   "metadata": {},
   "outputs": [
    {
     "name": "stdout",
     "output_type": "stream",
     "text": [
      "que viva españa\n",
      "emoji = 🇪🇸 (9)\n"
     ]
    }
   ],
   "source": [
    "ejemplo = \"que viva españa\"\n",
    "label, _ = eval_text(ejemplo)\n",
    "print(ejemplo+'\\nemoji = {} ({})'.format(labels[label],label))"
   ]
  },
  {
   "cell_type": "code",
   "execution_count": 9,
   "metadata": {},
   "outputs": [
    {
     "name": "stdout",
     "output_type": "stream",
     "text": [
      "1) 🇪🇸 0.2508\n",
      "2) 😍 0.238\n",
      "3) 👌 0.2225\n",
      "4) 😂 0.0806\n",
      "5) ❤ 0.0489\n",
      "6) 😁 0.0415\n",
      "7) 😜 0.0232\n",
      "8) 😎 0.0229\n",
      "9) 😊 0.0156\n",
      "10) 😉 0.0119\n",
      "11) 💜 0.0079\n",
      "12) 💕 0.0077\n",
      "13) 💪 0.0066\n",
      "14) 💘 0.0054\n",
      "15) 💙 0.0052\n",
      "16) 💞 0.005\n",
      "17) 😘 0.0034\n",
      "18) 🎶 0.0022\n",
      "19) ✨ 0.0007\n"
     ]
    }
   ],
   "source": [
    "rank_emojis_text(ejemplo)"
   ]
  },
  {
   "cell_type": "code",
   "execution_count": 10,
   "metadata": {},
   "outputs": [],
   "source": [
    "import pickle\n",
    "from config import file_names\n",
    "\n",
    "df_es_test = pickle.load(open(file_names['df_es_test'], \"rb\"))"
   ]
  },
  {
   "cell_type": "code",
   "execution_count": 11,
   "metadata": {},
   "outputs": [
    {
     "name": "stdout",
     "output_type": "stream",
     "text": [
      "CPU times: user 49min 25s, sys: 22.3 s, total: 49min 47s\n",
      "Wall time: 8min 19s\n"
     ]
    }
   ],
   "source": [
    "%%time\n",
    "y_pred = []\n",
    "\n",
    "for texto in df_es_test['text']:\n",
    "    label, _ = eval_text(texto)\n",
    "    y_pred.append(label)"
   ]
  },
  {
   "cell_type": "code",
   "execution_count": 12,
   "metadata": {},
   "outputs": [],
   "source": [
    "%%capture\n",
    "from sklearn.metrics import classification_report\n",
    "\n",
    "report = classification_report(df_es_test[\"label\"].astype(int), y_pred, target_names=labels)"
   ]
  },
  {
   "cell_type": "code",
   "execution_count": 13,
   "metadata": {},
   "outputs": [
    {
     "name": "stdout",
     "output_type": "stream",
     "text": [
      "              precision    recall  f1-score   support\n",
      "\n",
      "           ❤       0.39      0.43      0.41      2141\n",
      "           😍       0.29      0.39      0.33      1408\n",
      "           😂       0.51      0.51      0.51      1499\n",
      "           💕       0.09      0.05      0.06       352\n",
      "           😊       0.12      0.23      0.16       514\n",
      "           😘       0.24      0.23      0.24       397\n",
      "           💪       0.37      0.43      0.40       307\n",
      "           😉       0.15      0.17      0.16       453\n",
      "           👌       0.09      0.16      0.11       180\n",
      "          🇪🇸       0.46      0.46      0.46       424\n",
      "           😎       0.12      0.11      0.11       339\n",
      "           💙       0.36      0.02      0.04       413\n",
      "           💜       0.00      0.00      0.00       235\n",
      "           😜       0.04      0.02      0.02       274\n",
      "           💞       0.00      0.00      0.00        93\n",
      "           ✨       0.26      0.12      0.17       416\n",
      "           🎶       0.25      0.24      0.24       212\n",
      "           💘       0.00      0.00      0.00       134\n",
      "           😁       0.05      0.03      0.04       209\n",
      "\n",
      "    accuracy                           0.30     10000\n",
      "   macro avg       0.20      0.19      0.18     10000\n",
      "weighted avg       0.29      0.30      0.29     10000\n",
      "\n"
     ]
    }
   ],
   "source": [
    "print(report)"
   ]
  },
  {
   "cell_type": "code",
   "execution_count": 14,
   "metadata": {},
   "outputs": [
    {
     "data": {
      "text/plain": [
       "0.18153243138645886"
      ]
     },
     "execution_count": 14,
     "metadata": {},
     "output_type": "execute_result"
    }
   ],
   "source": [
    "from sklearn.metrics import f1_score\n",
    "\n",
    "f1_score(df_es_test[\"label\"].astype(int), y_pred, average='macro')"
   ]
  }
 ],
 "metadata": {
  "interpreter": {
   "hash": "5f20c33d1910a35bd4e57e72ae45c4ccb5c2a16c01a089293cb3a6910e8ec5b3"
  },
  "kernelspec": {
   "display_name": "Python 3",
   "language": "python",
   "name": "python3"
  },
  "language_info": {
   "codemirror_mode": {
    "name": "ipython",
    "version": 3
   },
   "file_extension": ".py",
   "mimetype": "text/x-python",
   "name": "python",
   "nbconvert_exporter": "python",
   "pygments_lexer": "ipython3",
   "version": "3.8.13"
  }
 },
 "nbformat": 4,
 "nbformat_minor": 2
}
